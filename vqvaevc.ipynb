{
  "nbformat": 4,
  "nbformat_minor": 0,
  "metadata": {
    "colab": {
      "name": "Scyclone_PyTorch.ipynb のコピー",
      "private_outputs": true,
      "provenance": [],
      "collapsed_sections": []
    },
    "kernelspec": {
      "name": "python3",
      "display_name": "Python 3"
    }
  },
  "cells": [
    {
      "cell_type": "markdown",
      "metadata": {
        "id": "WEGIcY37dywB"
      },
      "source": [
        "# VQ-VAE WaveRNN\n",
        "[![Generic badge](https://img.shields.io/badge/vqvaevc--PyTorch-9cf.svg)][github]\n",
        "[![Open In Colab](https://colab.research.google.com/assets/colab-badge.svg)][notebook]\n",
        "\n",
        "Reimplmentation of VQ-VAE WaveRNN  \n",
        "Author: [tarepan]\n",
        "\n",
        "[github]:https://github.com/tarepan/vqvaevc\n",
        "[notebook]:https://colab.research.google.com/github/tarepan/vqvaevc/blob/main/vqvaevc.ipynb\n",
        "[tarepan]:https://github.com/tarepan"
      ]
    },
    {
      "cell_type": "markdown",
      "metadata": {
        "id": "QFQivUIyZyYi"
      },
      "source": [
        "## Colab Check\n",
        "Check\n",
        "- Google Colaboratory runnning time\n",
        "- GPU type\n",
        "- Python version\n",
        "- CUDA version"
      ]
    },
    {
      "cell_type": "code",
      "metadata": {
        "id": "4cwyMoXOZ7e1"
      },
      "source": [
        "!cat /proc/uptime | awk '{print $1 /60 /60 /24 \"days (\" $1 \"sec)\"}'\n",
        "!head -n 1 /proc/driver/nvidia/gpus/**/information\n",
        "!cat /usr/local/cuda/version.txt"
      ],
      "execution_count": null,
      "outputs": []
    },
    {
      "cell_type": "markdown",
      "metadata": {
        "id": "K125Ein7VCwM"
      },
      "source": [
        "## Setup"
      ]
    },
    {
      "cell_type": "markdown",
      "metadata": {
        "id": "kOodknjGdywK"
      },
      "source": [
        "Activate notebook intermittently for long session (RUN once **by hand**)\n",
        "```javascript\n",
        "const refresher = setInterval(()=>{document.querySelector(\"colab-connect-button\").click();console.log(\"clicked for long session\");}, 1000*60*10);\n",
        "```"
      ]
    },
    {
      "cell_type": "markdown",
      "metadata": {
        "id": "TA-7bCoPdywK"
      },
      "source": [
        "Clone repository from `tarepan/vqvaevc`"
      ]
    },
    {
      "cell_type": "code",
      "metadata": {
        "id": "wZ9fU-17Sdxb"
      },
      "source": [
        "# GoogleDrive\n",
        "from google.colab import drive\n",
        "drive.mount('/content/gdrive')\n",
        "\n",
        "# clone repository\n",
        "!git clone https://github.com/tarepan/vqvaevc.git\n",
        "%cd ./vqvaevc"
      ],
      "execution_count": null,
      "outputs": []
    },
    {
      "source": [
        "Prepare dataset"
      ],
      "cell_type": "markdown",
      "metadata": {}
    },
    {
      "cell_type": "code",
      "execution_count": null,
      "metadata": {},
      "outputs": [],
      "source": [
        "# !pip install torchaudio==0.7.0\n",
        "# from torchaudio.datasets.utils import download_url\n",
        "\n",
        "# # Download and extract corpus\n",
        "# !mkdir ../data\n",
        "# download_url(\"http://www.udialogue.org/download/VCTK-Corpus.tar.gz\", \"../data\")\n",
        "# !tar -xvf ../data/VCTK-Corpus.tar.gz\n",
        "\n",
        "# # Preprocess corpus into dataset\n",
        "# !python preprocess_multispeaker.py ./VCTK-Corpus/wav48 ./dataset\n",
        "# !cp -r ./dataset ../gdrive/MyDrive/ML_data/datasets/VCTK_processed"
      ]
    },
    {
      "cell_type": "code",
      "execution_count": null,
      "metadata": {},
      "outputs": [],
      "source": [
        "# Copy dataset from storage (Google Drive)\n",
        "!cp -r ../gdrive/MyDrive/ML_data/datasets/VCTK_processed/dataset ."
      ]
    },
    {
      "cell_type": "markdown",
      "metadata": {
        "id": "ptA8A-dhEgqZ"
      },
      "source": [
        "## Training"
      ]
    },
    {
      "cell_type": "code",
      "metadata": {
        "id": "FKIasW5cTqhl"
      },
      "source": [
        "!python wavernn.py --multi_speaker_data_path ./dataset"
      ],
      "execution_count": null,
      "outputs": []
    },
    {
      "cell_type": "markdown",
      "metadata": {
        "id": "shduEgmPdywM"
      },
      "source": [
        "## Training Optimization"
      ]
    },
    {
      "cell_type": "markdown",
      "metadata": {
        "id": "rs1zc6fSdywM"
      },
      "source": [
        "### whole"
      ]
    },
    {
      "cell_type": "code",
      "metadata": {
        "id": "ac8OgP3TdywN"
      },
      "source": [
        "# num_worker x pinmemory\n",
        "\n",
        "!python -m scyclonepytorch.main_train --max_epochs=15 --num_workers=0\n",
        "!python -m scyclonepytorch.main_train --max_epochs=15 --num_workers=1\n",
        "!python -m scyclonepytorch.main_train --max_epochs=15 --num_workers=2\n",
        "!python -m scyclonepytorch.main_train --max_epochs=15 --num_workers=4\n",
        "\n",
        "!python -m scyclonepytorch.main_train --max_epochs=15 --num_workers=0 --no_pin_memory\n",
        "!python -m scyclonepytorch.main_train --max_epochs=15 --num_workers=1 --no_pin_memory\n",
        "!python -m scyclonepytorch.main_train --max_epochs=15 --num_workers=2 --no_pin_memory\n",
        "!python -m scyclonepytorch.main_train --max_epochs=15 --num_workers=4 --no_pin_memory"
      ],
      "execution_count": null,
      "outputs": []
    },
    {
      "cell_type": "markdown",
      "metadata": {
        "id": "7hZNwAfndywN"
      },
      "source": [
        "### num_worker"
      ]
    },
    {
      "cell_type": "code",
      "metadata": {
        "id": "1voeVpSmdywN"
      },
      "source": [
        "!python -m scyclonepytorch.main_train --max_epochs=5 --num_workers=0\n",
        "!python -m scyclonepytorch.main_train --max_epochs=5 --num_workers=1\n",
        "!python -m scyclonepytorch.main_train --max_epochs=5 --num_workers=2\n",
        "!python -m scyclonepytorch.main_train --max_epochs=5 --num_workers=4"
      ],
      "execution_count": null,
      "outputs": []
    },
    {
      "cell_type": "markdown",
      "metadata": {
        "id": "lUvOP6cYdywO"
      },
      "source": [
        "### pin_memory"
      ]
    },
    {
      "cell_type": "code",
      "metadata": {
        "id": "bOkA0-Y9dywP"
      },
      "source": [
        "!python -m scyclonepytorch.main_train --max_epochs=5 --num_workers=2\n",
        "!python -m scyclonepytorch.main_train --max_epochs=5 --num_workers=2 --no_pin_memory"
      ],
      "execution_count": null,
      "outputs": []
    },
    {
      "cell_type": "markdown",
      "metadata": {
        "id": "BrU8jUQgdywQ"
      },
      "source": [
        "### Profiling"
      ]
    },
    {
      "cell_type": "code",
      "metadata": {
        "id": "E8BttsPedywQ"
      },
      "source": [
        "!python -m scyclonepytorch.main_train --profiler --max_epochs=5 --num_workers=2  --no_pin_memory # profile mode"
      ],
      "execution_count": null,
      "outputs": []
    },
    {
      "cell_type": "code",
      "metadata": {
        "id": "qKqBVO14dywQ"
      },
      "source": [
        "# # Usage stat\n",
        "# ## GPU\n",
        "# !nvidia-smi -l 3\n",
        "# ## CPU\n",
        "# !vmstat 5\n",
        "# !top"
      ],
      "execution_count": null,
      "outputs": []
    },
    {
      "cell_type": "markdown",
      "metadata": {
        "id": "3grTYUiQdywQ"
      },
      "source": []
    }
  ]
}